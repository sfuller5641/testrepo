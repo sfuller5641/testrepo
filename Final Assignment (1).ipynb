{
    "cells": [
        {
            "cell_type": "markdown",
            "id": "2118a349-19a4-4f18-a781-4c484a1b0bf8",
            "metadata": {},
            "source": "<p style=\"text-align:center\">\n    <a href=\"https://skills.network/?utm_medium=Exinfluencer&utm_source=Exinfluencer&utm_content=000026UJ&utm_term=10006555&utm_id=NA-SkillsNetwork-Channel-SkillsNetworkCoursesIBMDeveloperSkillsNetworkPY0220ENSkillsNetwork900-2022-01-01\" target=\"_blank\">\n    <img src=\"https://cf-courses-data.s3.us.cloud-object-storage.appdomain.cloud/assets/logos/SN_web_lightmode.png\" width=\"200\" alt=\"Skills Network Logo\">\n    </a>\n</p>\n"
        },
        {
            "cell_type": "markdown",
            "id": "e736c660-cfd4-4887-a586-355c35cdcaca",
            "metadata": {},
            "source": "<h1>Extracting and Visualizing Stock Data</h1>\n<h2>Description</h2>\n"
        },
        {
            "cell_type": "markdown",
            "id": "23e15576-dbda-49c4-923b-6e6cfcc5fedf",
            "metadata": {},
            "source": "Extracting essential data from a dataset and displaying it is a necessary part of data science; therefore individuals can make correct decisions based on the data. In this assignment, you will extract some stock data, you will then display this data in a graph.\n"
        },
        {
            "cell_type": "markdown",
            "id": "4f8220cd-8b1c-4d78-9a0d-28e1a583548d",
            "metadata": {},
            "source": "<h2>Table of Contents</h2>\n<div class=\"alert alert-block alert-info\" style=\"margin-top: 20px\">\n    <ul>\n        <li>Define a Function that Makes a Graph</li>\n        <li>Question 1: Use yfinance to Extract Stock Data</li>\n        <li>Question 2: Use Webscraping to Extract Tesla Revenue Data</li>\n        <li>Question 3: Use yfinance to Extract Stock Data</li>\n        <li>Question 4: Use Webscraping to Extract GME Revenue Data</li>\n        <li>Question 5: Plot Tesla Stock Graph</li>\n        <li>Question 6: Plot GameStop Stock Graph</li>\n    </ul>\n<p>\n    Estimated Time Needed: <strong>30 min</strong></p>\n</div>\n\n<hr>\n"
        },
        {
            "cell_type": "markdown",
            "id": "1b161ab1-0327-46d9-8793-1a7ccc3fcf09",
            "metadata": {},
            "source": "***Note***:- If you are working in IBM Cloud Watson Studio, please replace the command for installing nbformat from `!pip install nbformat==4.2.0` to simply `!pip install nbformat`\n"
        },
        {
            "cell_type": "code",
            "execution_count": 1,
            "id": "ec85e8e3-fe7a-4b30-9ea7-a67a38c1c74b",
            "metadata": {},
            "outputs": [
                {
                    "name": "stdout",
                    "output_type": "stream",
                    "text": "Requirement already satisfied: yfinance==0.1.67 in /opt/conda/envs/Python-3.10/lib/python3.10/site-packages (0.1.67)\nRequirement already satisfied: requests>=2.20 in /opt/conda/envs/Python-3.10/lib/python3.10/site-packages (from yfinance==0.1.67) (2.31.0)\nRequirement already satisfied: multitasking>=0.0.7 in /opt/conda/envs/Python-3.10/lib/python3.10/site-packages (from yfinance==0.1.67) (0.0.11)\nRequirement already satisfied: numpy>=1.15 in /opt/conda/envs/Python-3.10/lib/python3.10/site-packages (from yfinance==0.1.67) (1.23.1)\nRequirement already satisfied: lxml>=4.5.1 in /opt/conda/envs/Python-3.10/lib/python3.10/site-packages (from yfinance==0.1.67) (4.9.2)\nRequirement already satisfied: pandas>=0.24 in /opt/conda/envs/Python-3.10/lib/python3.10/site-packages (from yfinance==0.1.67) (1.4.3)\nRequirement already satisfied: python-dateutil>=2.8.1 in /opt/conda/envs/Python-3.10/lib/python3.10/site-packages (from pandas>=0.24->yfinance==0.1.67) (2.8.2)\nRequirement already satisfied: pytz>=2020.1 in /opt/conda/envs/Python-3.10/lib/python3.10/site-packages (from pandas>=0.24->yfinance==0.1.67) (2022.1)\nRequirement already satisfied: charset-normalizer<4,>=2 in /opt/conda/envs/Python-3.10/lib/python3.10/site-packages (from requests>=2.20->yfinance==0.1.67) (2.0.4)\nRequirement already satisfied: idna<4,>=2.5 in /opt/conda/envs/Python-3.10/lib/python3.10/site-packages (from requests>=2.20->yfinance==0.1.67) (3.3)\nRequirement already satisfied: certifi>=2017.4.17 in /opt/conda/envs/Python-3.10/lib/python3.10/site-packages (from requests>=2.20->yfinance==0.1.67) (2023.7.22)\nRequirement already satisfied: urllib3<3,>=1.21.1 in /opt/conda/envs/Python-3.10/lib/python3.10/site-packages (from requests>=2.20->yfinance==0.1.67) (1.26.11)\nRequirement already satisfied: six>=1.5 in /opt/conda/envs/Python-3.10/lib/python3.10/site-packages (from python-dateutil>=2.8.1->pandas>=0.24->yfinance==0.1.67) (1.16.0)\n\n                  __    __    __    __\n                 /  \\  /  \\  /  \\  /  \\\n                /    \\/    \\/    \\/    \\\n\u2588\u2588\u2588\u2588\u2588\u2588\u2588\u2588\u2588\u2588\u2588\u2588\u2588\u2588\u2588/  /\u2588\u2588/  /\u2588\u2588/  /\u2588\u2588/  /\u2588\u2588\u2588\u2588\u2588\u2588\u2588\u2588\u2588\u2588\u2588\u2588\u2588\u2588\u2588\u2588\u2588\u2588\u2588\u2588\u2588\u2588\u2588\u2588\n              /  / \\   / \\   / \\   / \\  \\____\n             /  /   \\_/   \\_/   \\_/   \\    o \\__,\n            / _/                       \\_____/  `\n            |/\n        \u2588\u2588\u2588\u2557   \u2588\u2588\u2588\u2557 \u2588\u2588\u2588\u2588\u2588\u2557 \u2588\u2588\u2588\u2557   \u2588\u2588\u2588\u2557\u2588\u2588\u2588\u2588\u2588\u2588\u2557  \u2588\u2588\u2588\u2588\u2588\u2557\n        \u2588\u2588\u2588\u2588\u2557 \u2588\u2588\u2588\u2588\u2551\u2588\u2588\u2554\u2550\u2550\u2588\u2588\u2557\u2588\u2588\u2588\u2588\u2557 \u2588\u2588\u2588\u2588\u2551\u2588\u2588\u2554\u2550\u2550\u2588\u2588\u2557\u2588\u2588\u2554\u2550\u2550\u2588\u2588\u2557\n        \u2588\u2588\u2554\u2588\u2588\u2588\u2588\u2554\u2588\u2588\u2551\u2588\u2588\u2588\u2588\u2588\u2588\u2588\u2551\u2588\u2588\u2554\u2588\u2588\u2588\u2588\u2554\u2588\u2588\u2551\u2588\u2588\u2588\u2588\u2588\u2588\u2554\u255d\u2588\u2588\u2588\u2588\u2588\u2588\u2588\u2551\n        \u2588\u2588\u2551\u255a\u2588\u2588\u2554\u255d\u2588\u2588\u2551\u2588\u2588\u2554\u2550\u2550\u2588\u2588\u2551\u2588\u2588\u2551\u255a\u2588\u2588\u2554\u255d\u2588\u2588\u2551\u2588\u2588\u2554\u2550\u2550\u2588\u2588\u2557\u2588\u2588\u2554\u2550\u2550\u2588\u2588\u2551\n        \u2588\u2588\u2551 \u255a\u2550\u255d \u2588\u2588\u2551\u2588\u2588\u2551  \u2588\u2588\u2551\u2588\u2588\u2551 \u255a\u2550\u255d \u2588\u2588\u2551\u2588\u2588\u2588\u2588\u2588\u2588\u2554\u255d\u2588\u2588\u2551  \u2588\u2588\u2551\n        \u255a\u2550\u255d     \u255a\u2550\u255d\u255a\u2550\u255d  \u255a\u2550\u255d\u255a\u2550\u255d     \u255a\u2550\u255d\u255a\u2550\u2550\u2550\u2550\u2550\u255d \u255a\u2550\u255d  \u255a\u2550\u255d\n\n        mamba (0.27.0) supported by @QuantStack\n\n        GitHub:  https://github.com/mamba-org/mamba\n        Twitter: https://twitter.com/QuantStack\n\n\u2588\u2588\u2588\u2588\u2588\u2588\u2588\u2588\u2588\u2588\u2588\u2588\u2588\u2588\u2588\u2588\u2588\u2588\u2588\u2588\u2588\u2588\u2588\u2588\u2588\u2588\u2588\u2588\u2588\u2588\u2588\u2588\u2588\u2588\u2588\u2588\u2588\u2588\u2588\u2588\u2588\u2588\u2588\u2588\u2588\u2588\u2588\u2588\u2588\u2588\u2588\u2588\u2588\u2588\u2588\u2588\u2588\u2588\u2588\u2588\u2588\n\n\nLooking for: ['bs4==4.10.0']\n\n\u001b[?25l\u001b[2K\u001b[0G[+] 0.0s\n\u001b[2K\u001b[1A\u001b[2K\u001b[0Gopt/ibm/custom-channels/meta-wscloud/linux-64      129.0 B @   1.0MB/s  0.0s\nopt/ibm/custom-channels/meta-wscloud/noarch         12.8kB @ 124.1MB/s  0.0s\nopt/ibm/custom-channels/placebo-20230406-noarch/..  ??.?MB @  ??.?MB/s 0 failed  0.0s\nopt/ibm/custom-channels/placebo-20230406-noarch/..   5.9kB @  74.5MB/s  0.0s\n[+] 0.1s\npkgs/main/linux-64 \u001b[90m\u2578\u001b[0m\u001b[33m\u2501\u2501\u2501\u2501\u2501\u2501\u2501\u2501\u2501\u2501\u2501\u2501\u2501\u2501\u2501\u2578\u001b[0m\u001b[90m\u2501\u2501\u2501\u2501\u2501\u2501\u2501\u2501\u001b[0m   0.0 B /  ??.?MB @  ??.?MB/s  0.1s\npkgs/main/noarch   \u001b[90m\u2578\u001b[0m\u001b[33m\u2501\u2501\u2501\u2501\u2501\u2501\u2501\u2501\u2501\u2501\u2501\u2501\u2501\u2501\u2501\u2578\u001b[0m\u001b[90m\u2501\u2501\u2501\u2501\u2501\u2501\u2501\u2501\u001b[0m   0.0 B /  ??.?MB @  ??.?MB/s  0.1s\u001b[2K\u001b[1A\u001b[2K\u001b[1A\u001b[2K\u001b[0G[+] 0.2s\npkgs/main/linux-64 \u001b[90m\u2501\u2578\u001b[0m\u001b[33m\u2501\u2501\u2501\u2501\u2501\u2501\u2501\u2501\u2501\u2501\u2501\u2501\u2501\u2501\u2501\u2578\u001b[0m\u001b[90m\u2501\u2501\u2501\u2501\u2501\u2501\u2501\u001b[0m   0.0 B /  ??.?MB @  ??.?MB/s  0.2s\npkgs/main/noarch   \u001b[90m\u2501\u2501\u2578\u001b[0m\u001b[33m\u2501\u2501\u2501\u2501\u2501\u2501\u2501\u2501\u2501\u2501\u2501\u2501\u2501\u2501\u2501\u2578\u001b[0m\u001b[90m\u2501\u2501\u2501\u2501\u2501\u2501\u001b[0m   0.0 B /  ??.?MB @  ??.?MB/s  0.2s\u001b[2K\u001b[1A\u001b[2K\u001b[1A\u001b[2K\u001b[0Gpkgs/main/linux-64                                            No change\n[+] 0.3s\npkgs/main/noarch \u001b[90m\u2501\u2501\u2501\u2501\u2578\u001b[0m\u001b[33m\u2501\u2501\u2501\u2501\u2501\u2501\u2501\u2501\u2501\u2501\u2501\u2501\u2501\u2501\u2501\u2578\u001b[0m\u001b[90m\u2501\u2501\u2501\u2501\u2501\u2501\u001b[0m   0.0 B /  ??.?MB @  ??.?MB/s  0.3s\u001b[2K\u001b[1A\u001b[2K\u001b[0G[+] 0.4s\npkgs/main/noarch \u001b[90m\u2501\u2501\u2501\u2501\u2578\u001b[0m\u001b[33m\u2501\u2501\u2501\u2501\u2501\u2501\u2501\u2501\u2501\u2501\u2501\u2501\u2501\u2501\u2501\u2578\u001b[0m\u001b[90m\u2501\u2501\u2501\u2501\u2501\u2501\u001b[0m   0.0 B /  ??.?MB @  ??.?MB/s  0.4s\u001b[2K\u001b[1A\u001b[2K\u001b[0Gpkgs/main/noarch                                              No change\n\u001b[?25h\nPinned packages:\n  - python 3.10.*\n  - python 3.10.*\n  - widgetsnbextension 3.5.2.*\n\n\nTransaction\n\n  Prefix: /opt/conda/envs/Python-3.10\n\n  All requested packages already installed\n\n\u001b[?25l\u001b[2K\u001b[0G\u001b[?25hRequirement already satisfied: nbformat in /opt/conda/envs/Python-3.10/lib/python3.10/site-packages (4.2.0)\nRequirement already satisfied: traitlets>=4.1 in /opt/conda/envs/Python-3.10/lib/python3.10/site-packages (from nbformat) (5.1.1)\nRequirement already satisfied: ipython-genutils in /opt/conda/envs/Python-3.10/lib/python3.10/site-packages (from nbformat) (0.2.0)\nRequirement already satisfied: jupyter-core in /opt/conda/envs/Python-3.10/lib/python3.10/site-packages (from nbformat) (4.11.2)\nRequirement already satisfied: jsonschema!=2.5.0,>=2.4 in /opt/conda/envs/Python-3.10/lib/python3.10/site-packages (from nbformat) (4.4.0)\nRequirement already satisfied: pyrsistent!=0.17.0,!=0.17.1,!=0.17.2,>=0.14.0 in /opt/conda/envs/Python-3.10/lib/python3.10/site-packages (from jsonschema!=2.5.0,>=2.4->nbformat) (0.18.0)\nRequirement already satisfied: attrs>=17.4.0 in /opt/conda/envs/Python-3.10/lib/python3.10/site-packages (from jsonschema!=2.5.0,>=2.4->nbformat) (21.4.0)\n"
                }
            ],
            "source": "!pip install yfinance==0.1.67\n!mamba install bs4==4.10.0 -y\n!pip install nbformat"
        },
        {
            "cell_type": "code",
            "execution_count": 2,
            "id": "f62cd91c-15a4-4152-8104-a61a00bf8950",
            "metadata": {},
            "outputs": [],
            "source": "import yfinance as yf\nimport pandas as pd\nimport requests\nfrom bs4 import BeautifulSoup\nimport plotly.graph_objects as go\nfrom plotly.subplots import make_subplots"
        },
        {
            "cell_type": "markdown",
            "id": "42c8b334-9e2f-4188-af4c-ce6a516ae961",
            "metadata": {},
            "source": "## Define Graphing Function\n"
        },
        {
            "cell_type": "markdown",
            "id": "30ac7780-8b65-46ed-a9b6-a747d2ca5446",
            "metadata": {},
            "source": "In this section, we define the function `make_graph`. You don't have to know how the function works, you should only care about the inputs. It takes a dataframe with stock data (dataframe must contain Date and Close columns), a dataframe with revenue data (dataframe must contain Date and Revenue columns), and the name of the stock.\n"
        },
        {
            "cell_type": "code",
            "execution_count": 3,
            "id": "3178f6c6-a77c-47c7-803b-f68481ac8b91",
            "metadata": {},
            "outputs": [],
            "source": "def make_graph(stock_data, revenue_data, stock):\n    fig = make_subplots(rows=2, cols=1, shared_xaxes=True, subplot_titles=(\"Historical Share Price\", \"Historical Revenue\"), vertical_spacing = .3)\n    stock_data_specific = stock_data[stock_data.Date <= '2021--06-14']\n    revenue_data_specific = revenue_data[revenue_data.Date <= '2021-04-30']\n    fig.add_trace(go.Scatter(x=pd.to_datetime(stock_data_specific.Date, infer_datetime_format=True), y=stock_data_specific.Close.astype(\"float\"), name=\"Share Price\"), row=1, col=1)\n    fig.add_trace(go.Scatter(x=pd.to_datetime(revenue_data_specific.Date, infer_datetime_format=True), y=revenue_data_specific.Revenue.astype(\"float\"), name=\"Revenue\"), row=2, col=1)\n    fig.update_xaxes(title_text=\"Date\", row=1, col=1)\n    fig.update_xaxes(title_text=\"Date\", row=2, col=1)\n    fig.update_yaxes(title_text=\"Price ($US)\", row=1, col=1)\n    fig.update_yaxes(title_text=\"Revenue ($US Millions)\", row=2, col=1)\n    fig.update_layout(showlegend=False,\n    height=900,\n    title=stock,\n    xaxis_rangeslider_visible=True)\n    fig.show()"
        },
        {
            "cell_type": "markdown",
            "id": "c2d16067-978f-49eb-881e-4f380f86736d",
            "metadata": {},
            "source": "## Question 1: Use yfinance to Extract Stock Data\n"
        },
        {
            "cell_type": "markdown",
            "id": "08e2df7c-0a30-4e0e-9b29-d3d1e9350ff0",
            "metadata": {},
            "source": "Using the `Ticker` function enter the ticker symbol of the stock we want to extract data on to create a ticker object. The stock is Tesla and its ticker symbol is `TSLA`."
        },
        {
            "cell_type": "code",
            "execution_count": 70,
            "id": "dd2222c9-0fdc-4c12-919c-afbc96b76249",
            "metadata": {},
            "outputs": [],
            "source": "tesla = yf.Ticker(\"TSLA\")"
        },
        {
            "cell_type": "markdown",
            "id": "ff18351c-1f5e-4321-aef4-4ddb0fa6cb52",
            "metadata": {},
            "source": "Using the ticker object and the function `history` extract stock information and save it in a dataframe named `tesla_data`. Set the `period` parameter to `max` so we get information for the maximum amount of time.\n"
        },
        {
            "cell_type": "code",
            "execution_count": 109,
            "id": "3a963c86-b6c6-41ec-9b3e-af1602008202",
            "metadata": {},
            "outputs": [],
            "source": "tesla_data = tesla.history(period=\"max\")"
        },
        {
            "cell_type": "markdown",
            "id": "2260c851-3930-4601-9b8a-7bda4f7d7c2a",
            "metadata": {},
            "source": "**Reset the index** using the `reset_index(inplace=True)` function on the tesla_data DataFrame and display the first five rows of the `tesla_data` dataframe using the `head` function. Take a screenshot of the results and code from the beginning of Question 1 to the results below.\n"
        },
        {
            "cell_type": "code",
            "execution_count": 111,
            "id": "9cb5f4b1-987d-4ad5-9c4f-ca652ce7399d",
            "metadata": {},
            "outputs": [],
            "source": "tesla_data.reset_index(inplace=True)"
        },
        {
            "cell_type": "markdown",
            "id": "686ac769-bbdf-48f7-917c-a5164faa7882",
            "metadata": {},
            "source": "## Question 2: Use Webscraping to Extract Tesla Revenue Data\n"
        },
        {
            "cell_type": "code",
            "execution_count": 73,
            "id": "f8e0a4cb-c82b-472c-88fd-d5a8fcdf03b3",
            "metadata": {},
            "outputs": [],
            "source": "url = 'https://cf-courses-data.s3.us.cloud-object-storage.appdomain.cloud/IBMDeveloperSkillsNetwork-PY0220EN-SkillsNetwork/labs/project/revenue.htm'\nhtml_data  = requests.get(url).text"
        },
        {
            "cell_type": "markdown",
            "id": "86473f05-2a24-4ed1-bc06-0bf3b290ae40",
            "metadata": {},
            "source": "Parse the html data using `beautiful_soup`."
        },
        {
            "cell_type": "code",
            "execution_count": 74,
            "id": "f6425e57-b5b0-4e0d-aac0-ff64d3bf7810",
            "metadata": {},
            "outputs": [],
            "source": "soup = BeautifulSoup(html_data,)"
        },
        {
            "cell_type": "markdown",
            "id": "40546cbb-fec6-4d2a-8a23-6cc8e19dcaa6",
            "metadata": {},
            "source": "Using `BeautifulSoup` or the `read_html` function extract the table with `Tesla Revenue` and store it into a dataframe named `tesla_revenue`. The dataframe should have columns `Date` and `Revenue`."
        },
        {
            "cell_type": "code",
            "execution_count": 87,
            "id": "ad381675-f398-4904-8577-5860ebca1458",
            "metadata": {},
            "outputs": [
                {
                    "name": "stderr",
                    "output_type": "stream",
                    "text": "/tmp/wsuser/ipykernel_424/1790689499.py:8: FutureWarning: The frame.append method is deprecated and will be removed from pandas in a future version. Use pandas.concat instead.\n  tesla_revenue = tesla_data.append({\"Date\":date, \"Revenue\":revenue}, ignore_index=True)\n"
                }
            ],
            "source": "tesla_data = pd.DataFrame(columns=[\"Date\", \"Revenue\"])\n\nfor row in soup.find(\"tbody\").find_all('tr'):\n    col = row.find_all(\"td\")\n    date = col[0].text\n    revenue = col[1].text\n    \ntesla_revenue = tesla_data.append({\"Date\":date, \"Revenue\":revenue}, ignore_index=True)"
        },
        {
            "cell_type": "markdown",
            "id": "33ada0b4-51a9-4c64-851e-c826919746ef",
            "metadata": {},
            "source": "Execute the following line to remove the comma and dollar sign from the `Revenue` column. \n"
        },
        {
            "cell_type": "code",
            "execution_count": 88,
            "id": "765556fb-e5e3-44b8-92c9-cea49eb5d4f3",
            "metadata": {},
            "outputs": [
                {
                    "name": "stderr",
                    "output_type": "stream",
                    "text": "/tmp/wsuser/ipykernel_424/349343550.py:1: FutureWarning: The default value of regex will change from True to False in a future version.\n  tesla_revenue[\"Revenue\"] = tesla_revenue['Revenue'].str.replace(',|\\$',\"\")\n"
                }
            ],
            "source": "tesla_revenue[\"Revenue\"] = tesla_revenue['Revenue'].str.replace(',|\\$',\"\")"
        },
        {
            "cell_type": "markdown",
            "id": "9cb48a5b-e770-4fd2-9880-e38a6d9ce8be",
            "metadata": {},
            "source": "Execute the following lines to remove an null or empty strings in the Revenue column.\n"
        },
        {
            "cell_type": "code",
            "execution_count": 89,
            "id": "030bfb14-39a9-4d6a-badc-c7e7c8faf373",
            "metadata": {},
            "outputs": [],
            "source": "tesla_revenue.dropna(inplace=True)\n\ntesla_revenue = tesla_revenue[tesla_revenue['Revenue'] != \"\"]"
        },
        {
            "cell_type": "markdown",
            "id": "5c0a77e2-ed09-4556-8eee-6bef58b8a7bc",
            "metadata": {},
            "source": "Display the last 5 row of the `tesla_revenue` dataframe using the `tail` function. Take a screenshot of the results.\n"
        },
        {
            "cell_type": "code",
            "execution_count": 112,
            "id": "b3737a56-089d-4526-89c2-948d58dc2ef8",
            "metadata": {},
            "outputs": [
                {
                    "data": {
                        "text/html": "<div>\n<style scoped>\n    .dataframe tbody tr th:only-of-type {\n        vertical-align: middle;\n    }\n\n    .dataframe tbody tr th {\n        vertical-align: top;\n    }\n\n    .dataframe thead th {\n        text-align: right;\n    }\n</style>\n<table border=\"1\" class=\"dataframe\">\n  <thead>\n    <tr style=\"text-align: right;\">\n      <th></th>\n      <th>Date</th>\n      <th>Revenue</th>\n    </tr>\n  </thead>\n  <tbody>\n    <tr>\n      <th>0</th>\n      <td>2005</td>\n      <td>1843</td>\n    </tr>\n  </tbody>\n</table>\n</div>",
                        "text/plain": "   Date Revenue\n0  2005    1843"
                    },
                    "execution_count": 112,
                    "metadata": {},
                    "output_type": "execute_result"
                }
            ],
            "source": "tesla_revenue.tail()"
        },
        {
            "cell_type": "markdown",
            "id": "9c8acc49-d060-4cd5-a12f-4ed72707ffd3",
            "metadata": {},
            "source": "## Question 3: Use yfinance to Extract Stock Data\n"
        },
        {
            "cell_type": "markdown",
            "id": "99301de0-70d4-46f1-a571-a1b49c7bc1bb",
            "metadata": {},
            "source": "Using the `Ticker` function enter the ticker symbol of the stock we want to extract data on to create a ticker object. The stock is GameStop and its ticker symbol is `GME`.\n"
        },
        {
            "cell_type": "code",
            "execution_count": 68,
            "id": "621cf9dd-9491-4a97-b795-d305c7862b3c",
            "metadata": {},
            "outputs": [],
            "source": "GameStop = yf.Ticker(\"GME\")"
        },
        {
            "cell_type": "markdown",
            "id": "ead658b9-b109-48a7-8dab-1cc03b9d86dd",
            "metadata": {},
            "source": "Using the ticker object and the function `history` extract stock information and save it in a dataframe named `gme_data`. Set the `period` parameter to `max` so we get information for the maximum amount of time.\n"
        },
        {
            "cell_type": "code",
            "execution_count": 79,
            "id": "25e2c60d-fc5d-4699-b7aa-dbedeb6dab17",
            "metadata": {},
            "outputs": [],
            "source": "gme_data = GameStop.history(period=\"max\")"
        },
        {
            "cell_type": "markdown",
            "id": "30f216c1-91a1-4ad9-a5d4-a39c01b3e11c",
            "metadata": {},
            "source": "**Reset the index** using the `reset_index(inplace=True)` function on the gme_data DataFrame and display the first five rows of the `gme_data` dataframe using the `head` function. Take a screenshot of the results and code from the beginning of Question 3 to the results below.\n"
        },
        {
            "cell_type": "code",
            "execution_count": 80,
            "id": "a0c0831f-5157-4052-bda0-3d731ab82bf1",
            "metadata": {},
            "outputs": [],
            "source": "gme_data.reset_index(inplace=True)"
        },
        {
            "cell_type": "markdown",
            "id": "cb1913be-cfe9-43bf-8e0b-bc44911784d0",
            "metadata": {},
            "source": "## Question 4: Use Webscraping to Extract GME Revenue Data\n"
        },
        {
            "cell_type": "markdown",
            "id": "619739fd-11f7-47fa-83f8-1a6652380329",
            "metadata": {},
            "source": "Use the `requests` library to download the webpage https://cf-courses-data.s3.us.cloud-object-storage.appdomain.cloud/IBMDeveloperSkillsNetwork-PY0220EN-SkillsNetwork/labs/project/stock.html. Save the text of the response as a variable named `html_data`.\n"
        },
        {
            "cell_type": "code",
            "execution_count": 81,
            "id": "71bfdefd-1cab-4b6e-afce-ee674babb21b",
            "metadata": {},
            "outputs": [],
            "source": "url = 'https://cf-courses-data.s3.us.cloud-object-storage.appdomain.cloud/IBMDeveloperSkillsNetwork-PY0220EN-SkillsNetwork/labs/project/stock.html'\nhtml_data  = requests.get(url).text"
        },
        {
            "cell_type": "markdown",
            "id": "bc3a16c5-9ea4-41fc-ab41-0cb8b063c08c",
            "metadata": {},
            "source": "Parse the html data using `beautiful_soup`.\n"
        },
        {
            "cell_type": "code",
            "execution_count": 82,
            "id": "70cc663d-ad81-430e-891a-bce16c63174e",
            "metadata": {},
            "outputs": [],
            "source": "soup = BeautifulSoup(html_data,)"
        },
        {
            "cell_type": "markdown",
            "id": "328a2fcc-7874-4355-b8b7-c3719b82d362",
            "metadata": {},
            "source": "Using `BeautifulSoup` or the `read_html` function extract the table with `GameStop Revenue` and store it into a dataframe named `gme_revenue`. The dataframe should have columns `Date` and `Revenue`. Make sure the comma and dollar sign is removed from the `Revenue` column using a method similar to what you did in Question 2.\n"
        },
        {
            "cell_type": "code",
            "execution_count": 115,
            "id": "d146145a-95e3-46c9-a4ba-d603b46e1601",
            "metadata": {},
            "outputs": [
                {
                    "name": "stderr",
                    "output_type": "stream",
                    "text": "/tmp/wsuser/ipykernel_424/1580979191.py:9: FutureWarning: The frame.append method is deprecated and will be removed from pandas in a future version. Use pandas.concat instead.\n  gme_revenue = gme_data.append({\"Date\":date, \"Revenue\":revenue}, ignore_index=True)\n/tmp/wsuser/ipykernel_424/1580979191.py:10: FutureWarning: The default value of regex will change from True to False in a future version.\n  gme_revenue[\"Revenue\"] = gme_revenue['Revenue'].str.replace(',|\\$',\"\")\n"
                }
            ],
            "source": "gme_data = pd.DataFrame(columns=[\"Date\", \"Revenue\"])\n\nfor row in soup.find(\"tbody\").find_all('tr'):\n    col = row.find_all(\"td\")\n    date = col[0].text\n    revenue = col[1].text\n    \ngme_revenue = gme_data.append({\"Date\":date, \"Revenue\":revenue}, ignore_index=True)\ngme_revenue[\"Revenue\"] = gme_revenue['Revenue'].str.replace(',|\\$',\"\")"
        },
        {
            "cell_type": "markdown",
            "id": "f4f098d8-0219-4d6d-9f9f-eda779596267",
            "metadata": {},
            "source": "Display the last five rows of the `gme_revenue` dataframe using the `tail` function. Take a screenshot of the results.\n"
        },
        {
            "cell_type": "code",
            "execution_count": 116,
            "id": "e62e8496-5400-4b60-8aa3-fa1acea52fbc",
            "metadata": {},
            "outputs": [
                {
                    "data": {
                        "text/html": "<div>\n<style scoped>\n    .dataframe tbody tr th:only-of-type {\n        vertical-align: middle;\n    }\n\n    .dataframe tbody tr th {\n        vertical-align: top;\n    }\n\n    .dataframe thead th {\n        text-align: right;\n    }\n</style>\n<table border=\"1\" class=\"dataframe\">\n  <thead>\n    <tr style=\"text-align: right;\">\n      <th></th>\n      <th>Date</th>\n      <th>Revenue</th>\n    </tr>\n  </thead>\n  <tbody>\n    <tr>\n      <th>0</th>\n      <td>2005</td>\n      <td>1843</td>\n    </tr>\n  </tbody>\n</table>\n</div>",
                        "text/plain": "   Date Revenue\n0  2005    1843"
                    },
                    "execution_count": 116,
                    "metadata": {},
                    "output_type": "execute_result"
                }
            ],
            "source": "gme_revenue.tail()"
        },
        {
            "cell_type": "markdown",
            "id": "ee0004c7-8a5f-4c9a-97d7-337210c365e7",
            "metadata": {},
            "source": "## Question 5: Plot Tesla Stock Graph\n"
        },
        {
            "cell_type": "markdown",
            "id": "0734aea7-35fc-4d27-9152-0f0d7dee256a",
            "metadata": {},
            "source": "Use the `make_graph` function to graph the Tesla Stock Data, also provide a title for the graph. The structure to call the `make_graph` function is `make_graph(tesla_data, tesla_revenue, 'Tesla')`. Note the graph will only show data upto June 2021.\n"
        },
        {
            "cell_type": "code",
            "execution_count": 118,
            "id": "ea5a2730-45ee-4370-8acc-3920433c6b75",
            "metadata": {},
            "outputs": [
                {
                    "ename": "ValueError",
                    "evalue": "Mime type rendering requires nbformat>=4.2.0 but it is not installed",
                    "output_type": "error",
                    "traceback": [
                        "\u001b[0;31m---------------------------------------------------------------------------\u001b[0m",
                        "\u001b[0;31mValueError\u001b[0m                                Traceback (most recent call last)",
                        "Input \u001b[0;32mIn [118]\u001b[0m, in \u001b[0;36m<cell line: 1>\u001b[0;34m()\u001b[0m\n\u001b[0;32m----> 1\u001b[0m \u001b[43mmake_graph\u001b[49m\u001b[43m(\u001b[49m\u001b[43mtesla_data\u001b[49m\u001b[43m,\u001b[49m\u001b[43m \u001b[49m\u001b[43mtesla_revenue\u001b[49m\u001b[43m,\u001b[49m\u001b[43m \u001b[49m\u001b[38;5;124;43m'\u001b[39;49m\u001b[38;5;124;43mTesla\u001b[39;49m\u001b[38;5;124;43m'\u001b[39;49m\u001b[43m)\u001b[49m\n",
                        "Input \u001b[0;32mIn [3]\u001b[0m, in \u001b[0;36mmake_graph\u001b[0;34m(stock_data, revenue_data, stock)\u001b[0m\n\u001b[1;32m     10\u001b[0m fig\u001b[38;5;241m.\u001b[39mupdate_yaxes(title_text\u001b[38;5;241m=\u001b[39m\u001b[38;5;124m\"\u001b[39m\u001b[38;5;124mRevenue ($US Millions)\u001b[39m\u001b[38;5;124m\"\u001b[39m, row\u001b[38;5;241m=\u001b[39m\u001b[38;5;241m2\u001b[39m, col\u001b[38;5;241m=\u001b[39m\u001b[38;5;241m1\u001b[39m)\n\u001b[1;32m     11\u001b[0m fig\u001b[38;5;241m.\u001b[39mupdate_layout(showlegend\u001b[38;5;241m=\u001b[39m\u001b[38;5;28;01mFalse\u001b[39;00m,\n\u001b[1;32m     12\u001b[0m height\u001b[38;5;241m=\u001b[39m\u001b[38;5;241m900\u001b[39m,\n\u001b[1;32m     13\u001b[0m title\u001b[38;5;241m=\u001b[39mstock,\n\u001b[1;32m     14\u001b[0m xaxis_rangeslider_visible\u001b[38;5;241m=\u001b[39m\u001b[38;5;28;01mTrue\u001b[39;00m)\n\u001b[0;32m---> 15\u001b[0m \u001b[43mfig\u001b[49m\u001b[38;5;241;43m.\u001b[39;49m\u001b[43mshow\u001b[49m\u001b[43m(\u001b[49m\u001b[43m)\u001b[49m\n",
                        "File \u001b[0;32m/opt/conda/envs/Python-3.10/lib/python3.10/site-packages/plotly/basedatatypes.py:3398\u001b[0m, in \u001b[0;36mBaseFigure.show\u001b[0;34m(self, *args, **kwargs)\u001b[0m\n\u001b[1;32m   3365\u001b[0m \u001b[38;5;124;03m\"\"\"\u001b[39;00m\n\u001b[1;32m   3366\u001b[0m \u001b[38;5;124;03mShow a figure using either the default renderer(s) or the renderer(s)\u001b[39;00m\n\u001b[1;32m   3367\u001b[0m \u001b[38;5;124;03mspecified by the renderer argument\u001b[39;00m\n\u001b[0;32m   (...)\u001b[0m\n\u001b[1;32m   3394\u001b[0m \u001b[38;5;124;03mNone\u001b[39;00m\n\u001b[1;32m   3395\u001b[0m \u001b[38;5;124;03m\"\"\"\u001b[39;00m\n\u001b[1;32m   3396\u001b[0m \u001b[38;5;28;01mimport\u001b[39;00m \u001b[38;5;21;01mplotly\u001b[39;00m\u001b[38;5;21;01m.\u001b[39;00m\u001b[38;5;21;01mio\u001b[39;00m \u001b[38;5;28;01mas\u001b[39;00m \u001b[38;5;21;01mpio\u001b[39;00m\n\u001b[0;32m-> 3398\u001b[0m \u001b[38;5;28;01mreturn\u001b[39;00m \u001b[43mpio\u001b[49m\u001b[38;5;241;43m.\u001b[39;49m\u001b[43mshow\u001b[49m\u001b[43m(\u001b[49m\u001b[38;5;28;43mself\u001b[39;49m\u001b[43m,\u001b[49m\u001b[43m \u001b[49m\u001b[38;5;241;43m*\u001b[39;49m\u001b[43margs\u001b[49m\u001b[43m,\u001b[49m\u001b[43m \u001b[49m\u001b[38;5;241;43m*\u001b[39;49m\u001b[38;5;241;43m*\u001b[39;49m\u001b[43mkwargs\u001b[49m\u001b[43m)\u001b[49m\n",
                        "File \u001b[0;32m/opt/conda/envs/Python-3.10/lib/python3.10/site-packages/plotly/io/_renderers.py:396\u001b[0m, in \u001b[0;36mshow\u001b[0;34m(fig, renderer, validate, **kwargs)\u001b[0m\n\u001b[1;32m    391\u001b[0m         \u001b[38;5;28;01mraise\u001b[39;00m \u001b[38;5;167;01mValueError\u001b[39;00m(\n\u001b[1;32m    392\u001b[0m             \u001b[38;5;124m\"\u001b[39m\u001b[38;5;124mMime type rendering requires ipython but it is not installed\u001b[39m\u001b[38;5;124m\"\u001b[39m\n\u001b[1;32m    393\u001b[0m         )\n\u001b[1;32m    395\u001b[0m     \u001b[38;5;28;01mif\u001b[39;00m \u001b[38;5;129;01mnot\u001b[39;00m nbformat \u001b[38;5;129;01mor\u001b[39;00m LooseVersion(nbformat\u001b[38;5;241m.\u001b[39m__version__) \u001b[38;5;241m<\u001b[39m LooseVersion(\u001b[38;5;124m\"\u001b[39m\u001b[38;5;124m4.2.0\u001b[39m\u001b[38;5;124m\"\u001b[39m):\n\u001b[0;32m--> 396\u001b[0m         \u001b[38;5;28;01mraise\u001b[39;00m \u001b[38;5;167;01mValueError\u001b[39;00m(\n\u001b[1;32m    397\u001b[0m             \u001b[38;5;124m\"\u001b[39m\u001b[38;5;124mMime type rendering requires nbformat>=4.2.0 but it is not installed\u001b[39m\u001b[38;5;124m\"\u001b[39m\n\u001b[1;32m    398\u001b[0m         )\n\u001b[1;32m    400\u001b[0m     ipython_display\u001b[38;5;241m.\u001b[39mdisplay(bundle, raw\u001b[38;5;241m=\u001b[39m\u001b[38;5;28;01mTrue\u001b[39;00m)\n\u001b[1;32m    402\u001b[0m \u001b[38;5;66;03m# external renderers\u001b[39;00m\n",
                        "\u001b[0;31mValueError\u001b[0m: Mime type rendering requires nbformat>=4.2.0 but it is not installed"
                    ]
                }
            ],
            "source": "make_graph(tesla_data, tesla_revenue, 'Tesla')"
        },
        {
            "cell_type": "markdown",
            "id": "02c3e4af-0dbf-40ba-a0d0-3b2f82395294",
            "metadata": {},
            "source": "## Question 6: Plot GameStop Stock Graph\n"
        },
        {
            "cell_type": "markdown",
            "id": "b6be1c62-0d1b-4a1f-864e-7371c5b68f4f",
            "metadata": {},
            "source": "Use the `make_graph` function to graph the GameStop Stock Data, also provide a title for the graph. The structure to call the `make_graph` function is `make_graph(gme_data, gme_revenue, 'GameStop')`. Note the graph will only show data upto June 2021.\n"
        },
        {
            "cell_type": "code",
            "execution_count": 119,
            "id": "5124748d-3c56-455a-a63c-6087abaeef4f",
            "metadata": {},
            "outputs": [
                {
                    "ename": "SyntaxError",
                    "evalue": "incomplete input (2846650683.py, line 1)",
                    "output_type": "error",
                    "traceback": [
                        "\u001b[0;36m  Input \u001b[0;32mIn [119]\u001b[0;36m\u001b[0m\n\u001b[0;31m    make_graph(gme_data, gme_revenue, 'GameStop'\u001b[0m\n\u001b[0m                                                ^\u001b[0m\n\u001b[0;31mSyntaxError\u001b[0m\u001b[0;31m:\u001b[0m incomplete input\n"
                    ]
                }
            ],
            "source": "make_graph(gme_data, gme_revenue, 'GameStop'"
        },
        {
            "cell_type": "markdown",
            "id": "78a1dc20-fd75-4f9c-bd32-84d6cee08897",
            "metadata": {},
            "source": "<h2>About the Authors:</h2> \n\n<a href=\"https://www.linkedin.com/in/joseph-s-50398b136/\">Joseph Santarcangelo</a> has a PhD in Electrical Engineering, his research focused on using machine learning, signal processing, and computer vision to determine how videos impact human cognition. Joseph has been working for IBM since he completed his PhD.\n\nAzim Hirjani\n"
        },
        {
            "cell_type": "markdown",
            "id": "4088c15e-bf02-4718-90b2-33d21430d053",
            "metadata": {},
            "source": "## Change Log\n\n| Date (YYYY-MM-DD) | Version | Changed By    | Change Description        |\n| ----------------- | ------- | ------------- | ------------------------- |\n| 2022-02-28        | 1.2     | Lakshmi Holla | Changed the URL of GameStop |\n| 2020-11-10        | 1.1     | Malika Singla | Deleted the Optional part |\n| 2020-08-27        | 1.0     | Malika Singla | Added lab to GitLab       |\n\n<hr>\n\n## <h3 align=\"center\"> \u00a9 IBM Corporation 2020. All rights reserved. <h3/>\n\n<p>\n"
        }
    ],
    "metadata": {
        "kernelspec": {
            "display_name": "Python 3.10",
            "language": "python",
            "name": "python3"
        },
        "language_info": {
            "codemirror_mode": {
                "name": "ipython",
                "version": 3
            },
            "file_extension": ".py",
            "mimetype": "text/x-python",
            "name": "python",
            "nbconvert_exporter": "python",
            "pygments_lexer": "ipython3",
            "version": "3.10.9"
        }
    },
    "nbformat": 4,
    "nbformat_minor": 4
}