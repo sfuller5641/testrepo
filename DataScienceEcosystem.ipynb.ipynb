{
    "cells": [
        {
            "metadata": {
                "collapsed": true
            },
            "cell_type": "markdown",
            "source": "# Data Science Tools and Ecosystem"
        },
        {
            "metadata": {},
            "cell_type": "markdown",
            "source": "In this notebook, Data Science Tools and Ecosystem are summarized."
        },
        {
            "metadata": {},
            "cell_type": "markdown",
            "source": "**Objectives:**\n- Some of the popular languages that Data Scientists\n- Some of the commonly used libraries used by Data Scientists include\n- simple arithmetic expression to mutiply then add integers\n    "
        },
        {
            "metadata": {},
            "cell_type": "markdown",
            "source": "## Author\nS. Fuller"
        },
        {
            "metadata": {},
            "cell_type": "markdown",
            "source": "Some of the popular languages that Data Scientists use are:\n1. Python\n2. R\n3. SQL"
        },
        {
            "metadata": {},
            "cell_type": "markdown",
            "source": "Some of the commonly used libraries used by Data Scientists include:\n1. Pandas\n2. NumPy\n3. Scikit-Learn\n4. Matplotlib\n5. Seaborn"
        },
        {
            "metadata": {},
            "cell_type": "markdown",
            "source": "| Data Science Tools |\n| -------------|\n| Git |\n| Gitlab |\n| GitHub |"
        },
        {
            "metadata": {},
            "cell_type": "markdown",
            "source": "### Below are a few examples of evaluating arithmetic expressions in Python"
        },
        {
            "metadata": {},
            "cell_type": "markdown",
            "source": "This a simple arithmetic expression to mutiply then add integers"
        },
        {
            "metadata": {},
            "cell_type": "code",
            "source": "(3*4)+5",
            "execution_count": 4,
            "outputs": [
                {
                    "output_type": "execute_result",
                    "execution_count": 4,
                    "data": {
                        "text/plain": "17"
                    },
                    "metadata": {}
                }
            ]
        },
        {
            "metadata": {},
            "cell_type": "markdown",
            "source": "This will convert 200 minutes to hours by diving by 60"
        },
        {
            "metadata": {},
            "cell_type": "code",
            "source": "200 / 60",
            "execution_count": 10,
            "outputs": [
                {
                    "output_type": "execute_result",
                    "execution_count": 10,
                    "data": {
                        "text/plain": "3.3333333333333335"
                    },
                    "metadata": {}
                }
            ]
        }
    ],
    "metadata": {
        "kernelspec": {
            "name": "python3",
            "display_name": "Python 3.10",
            "language": "python"
        },
        "language_info": {
            "name": "python",
            "version": "3.10.9",
            "mimetype": "text/x-python",
            "codemirror_mode": {
                "name": "ipython",
                "version": 3
            },
            "pygments_lexer": "ipython3",
            "nbconvert_exporter": "python",
            "file_extension": ".py"
        }
    },
    "nbformat": 4,
    "nbformat_minor": 1
}